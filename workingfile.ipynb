{
 "cells": [
  {
   "attachments": {},
   "cell_type": "markdown",
   "metadata": {},
   "source": [
    "# Importing and Cleaning"
   ]
  },
  {
   "cell_type": "code",
   "execution_count": 4,
   "metadata": {},
   "outputs": [],
   "source": [
    "import pandas as pd\n",
    "import numpy as np \n",
    "import matplotlib as plt\n",
    "import openpyxl"
   ]
  },
  {
   "cell_type": "code",
   "execution_count": 5,
   "metadata": {},
   "outputs": [],
   "source": [
    "essa = pd.read_excel('data/2020 ESSA Data.xlsx')\n",
    "school = pd.read_excel('data/SuccessBySchool.xlsx')"
   ]
  },
  {
   "cell_type": "code",
   "execution_count": 6,
   "metadata": {},
   "outputs": [],
   "source": [
    "# set columns\n",
    "school.columns = school.iloc[4]\n",
    "\n",
    "\n",
    "# drop first rows\n",
    "school = school.drop(school.index[0:5],axis=0)\n",
    "# school = school.reset_index(drop=True)\n",
    "\n",
    "#drop first two columns add grade\n",
    "school = school.drop(['Corp ID','Corp Name'],axis=1)\n",
    "school['grade'] = None\n",
    "school = pd.concat([school.iloc[:,[0,1,51]],school.iloc[:,2:51]],axis=1)"
   ]
  },
  {
   "cell_type": "code",
   "execution_count": 7,
   "metadata": {},
   "outputs": [
    {
     "name": "stderr",
     "output_type": "stream",
     "text": [
      "/var/folders/_2/bzbffk715flfhcgl3wbq2pfm0000gn/T/ipykernel_84987/2773814199.py:5: SettingWithCopyWarning: \n",
      "A value is trying to be set on a copy of a slice from a DataFrame.\n",
      "Try using .loc[row_indexer,col_indexer] = value instead\n",
      "\n",
      "See the caveats in the documentation: https://pandas.pydata.org/pandas-docs/stable/user_guide/indexing.html#returning-a-view-versus-a-copy\n",
      "  grade3['grade'] = '3'\n"
     ]
    }
   ],
   "source": [
    "# test restructure data\n",
    "test = school.loc[school['School ID'] == '0013']\n",
    "\n",
    "grade3 = test.iloc[:,0:10]\n",
    "grade3['grade'] = '3'\n",
    "\n",
    "grade4 = pd.concat([test.iloc[:,0:3],test.iloc[:,10:17]],axis=1)\n",
    "grade4['grade'] = '4'\n",
    "\n",
    "grade5 = pd.concat([test.iloc[:,0:3],test.iloc[:,17:24]],axis=1)\n",
    "grade5['grade'] = '5'\n",
    "\n",
    "grade6 = pd.concat([test.iloc[:,0:3],test.iloc[:,24:31]],axis=1)\n",
    "grade6['grade'] = '6'\n",
    "\n",
    "grade7 = pd.concat([test.iloc[:,0:3],test.iloc[:,31:38]],axis=1)\n",
    "grade7['grade'] = '7'\n",
    "\n",
    "grade8 = pd.concat([test.iloc[:,0:3],test.iloc[:,38:45]],axis=1)\n",
    "grade8['grade'] = '8'\n",
    "\n",
    "gradeT = pd.concat([test.iloc[:,0:3],test.iloc[:,45:52]],axis=1)\n",
    "gradeT['grade'] = 'total'\n",
    "\n",
    "test = pd.concat([grade3,grade4,grade5,grade6,grade7,grade8,gradeT])"
   ]
  },
  {
   "cell_type": "code",
   "execution_count": 13,
   "metadata": {},
   "outputs": [
    {
     "data": {
      "text/html": [
       "<div>\n",
       "<style scoped>\n",
       "    .dataframe tbody tr th:only-of-type {\n",
       "        vertical-align: middle;\n",
       "    }\n",
       "\n",
       "    .dataframe tbody tr th {\n",
       "        vertical-align: top;\n",
       "    }\n",
       "\n",
       "    .dataframe thead th {\n",
       "        text-align: right;\n",
       "    }\n",
       "</style>\n",
       "<table border=\"1\" class=\"dataframe\">\n",
       "  <thead>\n",
       "    <tr style=\"text-align: right;\">\n",
       "      <th></th>\n",
       "    </tr>\n",
       "  </thead>\n",
       "  <tbody>\n",
       "  </tbody>\n",
       "</table>\n",
       "</div>"
      ],
      "text/plain": [
       "Empty DataFrame\n",
       "Columns: []\n",
       "Index: []"
      ]
     },
     "execution_count": 13,
     "metadata": {},
     "output_type": "execute_result"
    }
   ],
   "source": [
    "# looping restructure\n",
    "school = pd.DataFrame()\n",
    "for row in school:\n",
    "    grade3 = school.iloc[:,0:10]\n",
    "    grade3['grade'] = '3'\n",
    "\n",
    "    grade4 = pd.concat([school.iloc[:,0:3],school.iloc[:,10:17]],axis=1)\n",
    "    grade4['grade'] = '4'\n",
    "\n",
    "    grade5 = pd.concat([school.iloc[:,0:3],school.iloc[:,17:24]],axis=1)\n",
    "    grade5['grade'] = '5'\n",
    "\n",
    "    grade6 = pd.concat([school.iloc[:,0:3],school.iloc[:,24:31]],axis=1)\n",
    "    grade6['grade'] = '6'\n",
    "\n",
    "    grade7 = pd.concat([school.iloc[:,0:3],school.iloc[:,31:38]],axis=1)\n",
    "    grade7['grade'] = '7'\n",
    "\n",
    "    grade8 = pd.concat([school.iloc[:,0:3],school.iloc[:,38:45]],axis=1)\n",
    "    grade8['grade'] = '8'\n",
    "\n",
    "    gradeT = pd.concat([school.iloc[:,0:3],school.iloc[:,45:52]],axis=1)\n",
    "    gradeT['grade'] = 'total'\n",
    "    \n",
    "    restruct = pd.concat([grade3,grade4,grade5,grade6,grade7,grade8,gradeT])\n",
    "    \n",
    "    school = pd.concat([restruct])\n",
    "    \n",
    "school"
   ]
  },
  {
   "cell_type": "code",
   "execution_count": null,
   "metadata": {},
   "outputs": [],
   "source": []
  }
 ],
 "metadata": {
  "kernelspec": {
   "display_name": "venv",
   "language": "python",
   "name": "python3"
  },
  "language_info": {
   "codemirror_mode": {
    "name": "ipython",
    "version": 3
   },
   "file_extension": ".py",
   "mimetype": "text/x-python",
   "name": "python",
   "nbconvert_exporter": "python",
   "pygments_lexer": "ipython3",
   "version": "3.11.1"
  },
  "orig_nbformat": 4
 },
 "nbformat": 4,
 "nbformat_minor": 2
}
